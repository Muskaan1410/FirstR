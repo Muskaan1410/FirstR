{
 "cells": [
  {
   "cell_type": "code",
   "execution_count": 16,
   "id": "c415255f-c15d-42aa-850f-b6f837557b9f",
   "metadata": {
    "tags": []
   },
   "outputs": [],
   "source": [
    "#Exercise 2 - Create a markdown cell with the title of the notebook."
   ]
  },
  {
   "cell_type": "markdown",
   "id": "665f577a-3ee9-46f8-b24a-c3a4008ef473",
   "metadata": {},
   "source": [
    "# Data Science Tools and Ecosystem"
   ]
  },
  {
   "cell_type": "code",
   "execution_count": 2,
   "id": "85cf39b6-c208-4e81-9efb-2b7bb323129d",
   "metadata": {
    "tags": []
   },
   "outputs": [],
   "source": [
    "#Exercise 3 - Create a markdown cell for an introduction"
   ]
  },
  {
   "cell_type": "markdown",
   "id": "c159b3f9-1f44-4140-9fbc-ae9a57278d86",
   "metadata": {},
   "source": [
    "In this notebook, Data Science Tools and Ecosystem are summarized."
   ]
  },
  {
   "cell_type": "code",
   "execution_count": 14,
   "id": "1fe40062-c1cc-41d4-94aa-3c1a38e58756",
   "metadata": {
    "tags": []
   },
   "outputs": [],
   "source": [
    "#Exercise 10 - Insert a markdown cell to list Objectives"
   ]
  },
  {
   "cell_type": "markdown",
   "id": "02640dad-f205-4eb1-919f-027b3ecc1e7d",
   "metadata": {},
   "source": [
    "**Objectives:**\n",
    "\n",
    "+ Languages used by Data Scientists\n",
    "+ Libraries used by Data Scientists\n",
    "+ Data Science Tools\n",
    "+ Evaluating arithmetic expressions in python"
   ]
  },
  {
   "cell_type": "code",
   "execution_count": 2,
   "id": "ea72b76a-5c10-4f85-87e0-94426e8889c0",
   "metadata": {
    "tags": []
   },
   "outputs": [],
   "source": [
    "#Exercise 4 - Create a markdown cell to list data science languages"
   ]
  },
  {
   "cell_type": "markdown",
   "id": "946333e6-c38b-4894-a2c3-74aabe52ac1d",
   "metadata": {},
   "source": [
    "Some of the popular languages that Data Scientists use are:\n",
    "\n",
    "1. Python\n",
    "2. Java\n",
    "3. R\n",
    "4. Julia\n",
    "5. Scala\n",
    "6. SQL"
   ]
  },
  {
   "cell_type": "code",
   "execution_count": 3,
   "id": "6aa4beda-7640-46a0-a64a-1064fab482e1",
   "metadata": {
    "tags": []
   },
   "outputs": [],
   "source": [
    "#Exercise 5 - Create a markdown cell to list data science libraries"
   ]
  },
  {
   "cell_type": "markdown",
   "id": "4ee0f6d8-ee95-4006-958b-2e0ccfd03446",
   "metadata": {},
   "source": [
    "Some of the commonly used libraries used by Data Scientists include:\n",
    "\n",
    "1. TenserFlow\n",
    "2. NumPy\n",
    "3. Matplotlib\n",
    "4. Pandas\n",
    "5. Keras\n",
    "6. Scipy"
   ]
  },
  {
   "cell_type": "code",
   "execution_count": 1,
   "id": "e4622756-ecaa-47bc-a8b6-bea9b700187f",
   "metadata": {
    "tags": []
   },
   "outputs": [],
   "source": [
    "#Exercise 6 - Create a markdown cell with a table of Data Science tools"
   ]
  },
  {
   "cell_type": "markdown",
   "id": "7ab1c7d7-3faf-4a44-9866-2082c42e4743",
   "metadata": {},
   "source": [
    "|Data Science Tools|\n",
    "|------|\n",
    "|TenserFlow|\n",
    "|RStudio|\n",
    "|Apache Spark|"
   ]
  },
  {
   "cell_type": "code",
   "execution_count": 5,
   "id": "1cfb0c02-6674-42c0-9128-2c217739769c",
   "metadata": {
    "tags": []
   },
   "outputs": [],
   "source": [
    "#Exercise 7 - Create a markdown cell introducing arithmetic expression examples"
   ]
  },
  {
   "cell_type": "markdown",
   "id": "187bcfea-9105-4232-81d2-2bcce3eb764e",
   "metadata": {},
   "source": [
    "### Below are a few examples of evaluating arithmetic expressions in Python"
   ]
  },
  {
   "cell_type": "code",
   "execution_count": 6,
   "id": "0e62b3a7-d4b9-4bdb-ac2c-fbe769fb0841",
   "metadata": {
    "tags": []
   },
   "outputs": [],
   "source": [
    "#Exercise 8 - Create a code cell to multiply and add numbers"
   ]
  },
  {
   "cell_type": "code",
   "execution_count": 7,
   "id": "c3d69fd9-3bc7-45a4-b014-b40809e30e9a",
   "metadata": {
    "tags": []
   },
   "outputs": [],
   "source": [
    "#his a simple arithmetic expression to mutiply then add integers"
   ]
  },
  {
   "cell_type": "code",
   "execution_count": 8,
   "id": "08040ca8-7107-4faf-8163-c289ea456763",
   "metadata": {
    "tags": []
   },
   "outputs": [
    {
     "data": {
      "text/plain": [
       "17"
      ]
     },
     "execution_count": 8,
     "metadata": {},
     "output_type": "execute_result"
    }
   ],
   "source": [
    "(3*4)+5"
   ]
  },
  {
   "cell_type": "code",
   "execution_count": 9,
   "id": "eb8fa386-3322-470b-8670-2bd3fe0a35b8",
   "metadata": {
    "tags": []
   },
   "outputs": [],
   "source": [
    "#Exercise 9 - Create a code cell to convert minutes to hours"
   ]
  },
  {
   "cell_type": "code",
   "execution_count": 10,
   "id": "f62b3c74-85b6-4218-a10f-4ba7dbca7874",
   "metadata": {
    "tags": []
   },
   "outputs": [],
   "source": [
    "#This will convert 200 minutes to hours by diving by 60"
   ]
  },
  {
   "cell_type": "code",
   "execution_count": 11,
   "id": "19413511-1224-41a5-8c84-1db5c9fcaf6e",
   "metadata": {
    "tags": []
   },
   "outputs": [
    {
     "data": {
      "text/plain": [
       "33.333333333333336"
      ]
     },
     "execution_count": 11,
     "metadata": {},
     "output_type": "execute_result"
    }
   ],
   "source": [
    "200/6"
   ]
  },
  {
   "cell_type": "code",
   "execution_count": 15,
   "id": "9a7cca22-032a-497f-abf3-c46599ca0121",
   "metadata": {
    "tags": []
   },
   "outputs": [],
   "source": [
    "#Exercise 11 - Create a markdown cell to indicate the Author's name"
   ]
  },
  {
   "cell_type": "markdown",
   "id": "7daf5684-b71b-4e2f-8eb9-32a5a51f4858",
   "metadata": {},
   "source": [
    "## Author ##\n",
    "\n",
    "Muskaan Jain"
   ]
  },
  {
   "cell_type": "code",
   "execution_count": null,
   "id": "b5b4a081-5e35-4b1a-861f-3673a56189a8",
   "metadata": {},
   "outputs": [],
   "source": []
  }
 ],
 "metadata": {
  "kernelspec": {
   "display_name": "Python",
   "language": "python",
   "name": "conda-env-python-py"
  },
  "language_info": {
   "codemirror_mode": {
    "name": "ipython",
    "version": 3
   },
   "file_extension": ".py",
   "mimetype": "text/x-python",
   "name": "python",
   "nbconvert_exporter": "python",
   "pygments_lexer": "ipython3",
   "version": "3.7.12"
  }
 },
 "nbformat": 4,
 "nbformat_minor": 5
}
